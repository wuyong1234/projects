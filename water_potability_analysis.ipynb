{
  "nbformat": 4,
  "nbformat_minor": 0,
  "metadata": {
    "colab": {
      "name": "Project 1.ipynb",
      "provenance": [],
      "collapsed_sections": []
    },
    "kernelspec": {
      "name": "python3",
      "display_name": "Python 3"
    },
    "language_info": {
      "name": "python"
    }
  },
  "cells": [
    {
      "cell_type": "code",
      "execution_count": 84,
      "metadata": {
        "id": "U_YjfLxI1wLZ"
      },
      "outputs": [],
      "source": [
        "#importing the libraries \n",
        "import pandas as pd\n",
        "import numpy as np\n",
        "import seaborn as sns\n",
        "import matplotlib.pyplot as plt\n",
        "import warnings\n",
        "from sklearn.model_selection import train_test_split\n",
        "from sklearn.preprocessing import StandardScaler\n",
        "from sklearn.tree import DecisionTreeClassifier\n",
        "from sklearn.metrics import classification_report\n",
        "from sklearn.ensemble import RandomForestClassifier\n",
        "from sklearn.model_selection import KFold \n",
        "from sklearn.model_selection import StratifiedKFold\n",
        "from sklearn.model_selection import cross_val_score\n",
        "from sklearn.neighbors import KNeighborsClassifier\n",
        "from sklearn.naive_bayes import GaussianNB\n",
        "from sklearn import svm\n",
        "from sklearn.linear_model import LogisticRegression\n",
        "from sklearn.utils import shuffle\n"
      ]
    },
    {
      "cell_type": "code",
      "source": [
        "# loading the dataset \n",
        "df = pd.read_csv('/content/water_potability.csv')\n",
        "df = shuffle(df)  # included shuffle to make sure that the target column is not all stacked with 0's and then 1's\n",
        "df.head(10)"
      ],
      "metadata": {
        "colab": {
          "base_uri": "https://localhost:8080/",
          "height": 363
        },
        "id": "iGuDQO1mbiPD",
        "outputId": "cf6eb688-cd20-4a86-9eb7-0689df3fe2d2"
      },
      "execution_count": 87,
      "outputs": [
        {
          "output_type": "execute_result",
          "data": {
            "text/plain": [
              "            ph    Hardness        Solids  Chloramines     Sulfate  \\\n",
              "1855  7.532059  185.506563  24454.725864     5.791102         NaN   \n",
              "1485  6.198650  246.476962  31369.541641     6.218948         NaN   \n",
              "2152       NaN  146.250325  25623.340549     7.307749         NaN   \n",
              "1064  6.225152  169.741172  29533.608826     5.574917         NaN   \n",
              "2333       NaN  205.666016  27044.959810     4.033934  298.213816   \n",
              "413   5.742110  188.216604  26831.610411     6.202721  318.376676   \n",
              "2729  5.566328  153.775514  14574.661100     8.011550         NaN   \n",
              "2495       NaN  183.488839  12675.938962     9.777807  319.870584   \n",
              "1985  6.266800  187.829617  27577.213623     9.141597  322.917848   \n",
              "1920  6.987335  224.034417  13505.033116     5.871180         NaN   \n",
              "\n",
              "      Conductivity  Organic_carbon  Trihalomethanes  Turbidity  Potability  \n",
              "1855    393.971890       15.070248        74.780643   3.808570           0  \n",
              "1485    527.000796       10.522935        62.125469   3.574172           1  \n",
              "2152    464.184606        8.354867        69.001575   3.582882           0  \n",
              "1064    380.114751       17.595510        75.519059   2.770823           0  \n",
              "2333    515.754936        9.057549        48.029690   4.067414           1  \n",
              "413     498.142386        9.657360        53.508523   3.323070           0  \n",
              "2729    388.050362       14.200557        75.555219   3.424761           1  \n",
              "2495    482.445026       13.309723        46.853410   3.240419           0  \n",
              "1985    277.050802       13.290252        59.454325   3.652845           1  \n",
              "1920    479.825497       15.921413        73.064218   3.870293           1  "
            ],
            "text/html": [
              "\n",
              "  <div id=\"df-babfffb5-f566-4f0d-8205-fd2adfed6a94\">\n",
              "    <div class=\"colab-df-container\">\n",
              "      <div>\n",
              "<style scoped>\n",
              "    .dataframe tbody tr th:only-of-type {\n",
              "        vertical-align: middle;\n",
              "    }\n",
              "\n",
              "    .dataframe tbody tr th {\n",
              "        vertical-align: top;\n",
              "    }\n",
              "\n",
              "    .dataframe thead th {\n",
              "        text-align: right;\n",
              "    }\n",
              "</style>\n",
              "<table border=\"1\" class=\"dataframe\">\n",
              "  <thead>\n",
              "    <tr style=\"text-align: right;\">\n",
              "      <th></th>\n",
              "      <th>ph</th>\n",
              "      <th>Hardness</th>\n",
              "      <th>Solids</th>\n",
              "      <th>Chloramines</th>\n",
              "      <th>Sulfate</th>\n",
              "      <th>Conductivity</th>\n",
              "      <th>Organic_carbon</th>\n",
              "      <th>Trihalomethanes</th>\n",
              "      <th>Turbidity</th>\n",
              "      <th>Potability</th>\n",
              "    </tr>\n",
              "  </thead>\n",
              "  <tbody>\n",
              "    <tr>\n",
              "      <th>1855</th>\n",
              "      <td>7.532059</td>\n",
              "      <td>185.506563</td>\n",
              "      <td>24454.725864</td>\n",
              "      <td>5.791102</td>\n",
              "      <td>NaN</td>\n",
              "      <td>393.971890</td>\n",
              "      <td>15.070248</td>\n",
              "      <td>74.780643</td>\n",
              "      <td>3.808570</td>\n",
              "      <td>0</td>\n",
              "    </tr>\n",
              "    <tr>\n",
              "      <th>1485</th>\n",
              "      <td>6.198650</td>\n",
              "      <td>246.476962</td>\n",
              "      <td>31369.541641</td>\n",
              "      <td>6.218948</td>\n",
              "      <td>NaN</td>\n",
              "      <td>527.000796</td>\n",
              "      <td>10.522935</td>\n",
              "      <td>62.125469</td>\n",
              "      <td>3.574172</td>\n",
              "      <td>1</td>\n",
              "    </tr>\n",
              "    <tr>\n",
              "      <th>2152</th>\n",
              "      <td>NaN</td>\n",
              "      <td>146.250325</td>\n",
              "      <td>25623.340549</td>\n",
              "      <td>7.307749</td>\n",
              "      <td>NaN</td>\n",
              "      <td>464.184606</td>\n",
              "      <td>8.354867</td>\n",
              "      <td>69.001575</td>\n",
              "      <td>3.582882</td>\n",
              "      <td>0</td>\n",
              "    </tr>\n",
              "    <tr>\n",
              "      <th>1064</th>\n",
              "      <td>6.225152</td>\n",
              "      <td>169.741172</td>\n",
              "      <td>29533.608826</td>\n",
              "      <td>5.574917</td>\n",
              "      <td>NaN</td>\n",
              "      <td>380.114751</td>\n",
              "      <td>17.595510</td>\n",
              "      <td>75.519059</td>\n",
              "      <td>2.770823</td>\n",
              "      <td>0</td>\n",
              "    </tr>\n",
              "    <tr>\n",
              "      <th>2333</th>\n",
              "      <td>NaN</td>\n",
              "      <td>205.666016</td>\n",
              "      <td>27044.959810</td>\n",
              "      <td>4.033934</td>\n",
              "      <td>298.213816</td>\n",
              "      <td>515.754936</td>\n",
              "      <td>9.057549</td>\n",
              "      <td>48.029690</td>\n",
              "      <td>4.067414</td>\n",
              "      <td>1</td>\n",
              "    </tr>\n",
              "    <tr>\n",
              "      <th>413</th>\n",
              "      <td>5.742110</td>\n",
              "      <td>188.216604</td>\n",
              "      <td>26831.610411</td>\n",
              "      <td>6.202721</td>\n",
              "      <td>318.376676</td>\n",
              "      <td>498.142386</td>\n",
              "      <td>9.657360</td>\n",
              "      <td>53.508523</td>\n",
              "      <td>3.323070</td>\n",
              "      <td>0</td>\n",
              "    </tr>\n",
              "    <tr>\n",
              "      <th>2729</th>\n",
              "      <td>5.566328</td>\n",
              "      <td>153.775514</td>\n",
              "      <td>14574.661100</td>\n",
              "      <td>8.011550</td>\n",
              "      <td>NaN</td>\n",
              "      <td>388.050362</td>\n",
              "      <td>14.200557</td>\n",
              "      <td>75.555219</td>\n",
              "      <td>3.424761</td>\n",
              "      <td>1</td>\n",
              "    </tr>\n",
              "    <tr>\n",
              "      <th>2495</th>\n",
              "      <td>NaN</td>\n",
              "      <td>183.488839</td>\n",
              "      <td>12675.938962</td>\n",
              "      <td>9.777807</td>\n",
              "      <td>319.870584</td>\n",
              "      <td>482.445026</td>\n",
              "      <td>13.309723</td>\n",
              "      <td>46.853410</td>\n",
              "      <td>3.240419</td>\n",
              "      <td>0</td>\n",
              "    </tr>\n",
              "    <tr>\n",
              "      <th>1985</th>\n",
              "      <td>6.266800</td>\n",
              "      <td>187.829617</td>\n",
              "      <td>27577.213623</td>\n",
              "      <td>9.141597</td>\n",
              "      <td>322.917848</td>\n",
              "      <td>277.050802</td>\n",
              "      <td>13.290252</td>\n",
              "      <td>59.454325</td>\n",
              "      <td>3.652845</td>\n",
              "      <td>1</td>\n",
              "    </tr>\n",
              "    <tr>\n",
              "      <th>1920</th>\n",
              "      <td>6.987335</td>\n",
              "      <td>224.034417</td>\n",
              "      <td>13505.033116</td>\n",
              "      <td>5.871180</td>\n",
              "      <td>NaN</td>\n",
              "      <td>479.825497</td>\n",
              "      <td>15.921413</td>\n",
              "      <td>73.064218</td>\n",
              "      <td>3.870293</td>\n",
              "      <td>1</td>\n",
              "    </tr>\n",
              "  </tbody>\n",
              "</table>\n",
              "</div>\n",
              "      <button class=\"colab-df-convert\" onclick=\"convertToInteractive('df-babfffb5-f566-4f0d-8205-fd2adfed6a94')\"\n",
              "              title=\"Convert this dataframe to an interactive table.\"\n",
              "              style=\"display:none;\">\n",
              "        \n",
              "  <svg xmlns=\"http://www.w3.org/2000/svg\" height=\"24px\"viewBox=\"0 0 24 24\"\n",
              "       width=\"24px\">\n",
              "    <path d=\"M0 0h24v24H0V0z\" fill=\"none\"/>\n",
              "    <path d=\"M18.56 5.44l.94 2.06.94-2.06 2.06-.94-2.06-.94-.94-2.06-.94 2.06-2.06.94zm-11 1L8.5 8.5l.94-2.06 2.06-.94-2.06-.94L8.5 2.5l-.94 2.06-2.06.94zm10 10l.94 2.06.94-2.06 2.06-.94-2.06-.94-.94-2.06-.94 2.06-2.06.94z\"/><path d=\"M17.41 7.96l-1.37-1.37c-.4-.4-.92-.59-1.43-.59-.52 0-1.04.2-1.43.59L10.3 9.45l-7.72 7.72c-.78.78-.78 2.05 0 2.83L4 21.41c.39.39.9.59 1.41.59.51 0 1.02-.2 1.41-.59l7.78-7.78 2.81-2.81c.8-.78.8-2.07 0-2.86zM5.41 20L4 18.59l7.72-7.72 1.47 1.35L5.41 20z\"/>\n",
              "  </svg>\n",
              "      </button>\n",
              "      \n",
              "  <style>\n",
              "    .colab-df-container {\n",
              "      display:flex;\n",
              "      flex-wrap:wrap;\n",
              "      gap: 12px;\n",
              "    }\n",
              "\n",
              "    .colab-df-convert {\n",
              "      background-color: #E8F0FE;\n",
              "      border: none;\n",
              "      border-radius: 50%;\n",
              "      cursor: pointer;\n",
              "      display: none;\n",
              "      fill: #1967D2;\n",
              "      height: 32px;\n",
              "      padding: 0 0 0 0;\n",
              "      width: 32px;\n",
              "    }\n",
              "\n",
              "    .colab-df-convert:hover {\n",
              "      background-color: #E2EBFA;\n",
              "      box-shadow: 0px 1px 2px rgba(60, 64, 67, 0.3), 0px 1px 3px 1px rgba(60, 64, 67, 0.15);\n",
              "      fill: #174EA6;\n",
              "    }\n",
              "\n",
              "    [theme=dark] .colab-df-convert {\n",
              "      background-color: #3B4455;\n",
              "      fill: #D2E3FC;\n",
              "    }\n",
              "\n",
              "    [theme=dark] .colab-df-convert:hover {\n",
              "      background-color: #434B5C;\n",
              "      box-shadow: 0px 1px 3px 1px rgba(0, 0, 0, 0.15);\n",
              "      filter: drop-shadow(0px 1px 2px rgba(0, 0, 0, 0.3));\n",
              "      fill: #FFFFFF;\n",
              "    }\n",
              "  </style>\n",
              "\n",
              "      <script>\n",
              "        const buttonEl =\n",
              "          document.querySelector('#df-babfffb5-f566-4f0d-8205-fd2adfed6a94 button.colab-df-convert');\n",
              "        buttonEl.style.display =\n",
              "          google.colab.kernel.accessAllowed ? 'block' : 'none';\n",
              "\n",
              "        async function convertToInteractive(key) {\n",
              "          const element = document.querySelector('#df-babfffb5-f566-4f0d-8205-fd2adfed6a94');\n",
              "          const dataTable =\n",
              "            await google.colab.kernel.invokeFunction('convertToInteractive',\n",
              "                                                     [key], {});\n",
              "          if (!dataTable) return;\n",
              "\n",
              "          const docLinkHtml = 'Like what you see? Visit the ' +\n",
              "            '<a target=\"_blank\" href=https://colab.research.google.com/notebooks/data_table.ipynb>data table notebook</a>'\n",
              "            + ' to learn more about interactive tables.';\n",
              "          element.innerHTML = '';\n",
              "          dataTable['output_type'] = 'display_data';\n",
              "          await google.colab.output.renderOutput(dataTable, element);\n",
              "          const docLink = document.createElement('div');\n",
              "          docLink.innerHTML = docLinkHtml;\n",
              "          element.appendChild(docLink);\n",
              "        }\n",
              "      </script>\n",
              "    </div>\n",
              "  </div>\n",
              "  "
            ]
          },
          "metadata": {},
          "execution_count": 87
        }
      ]
    },
    {
      "cell_type": "code",
      "source": [
        "# taking a look of the dataset\n",
        "df.shape"
      ],
      "metadata": {
        "colab": {
          "base_uri": "https://localhost:8080/"
        },
        "id": "H3IwJK1LbsTm",
        "outputId": "fab4c50b-5a4c-4abe-e7de-5c20895b1759"
      },
      "execution_count": 88,
      "outputs": [
        {
          "output_type": "execute_result",
          "data": {
            "text/plain": [
              "(3276, 10)"
            ]
          },
          "metadata": {},
          "execution_count": 88
        }
      ]
    },
    {
      "cell_type": "code",
      "source": [
        "# Looking at the data types\n",
        "df.dtypes"
      ],
      "metadata": {
        "colab": {
          "base_uri": "https://localhost:8080/"
        },
        "id": "9sZ2HlXLcAmd",
        "outputId": "016e384e-2ae0-4d70-9d06-3b406a86735d"
      },
      "execution_count": 89,
      "outputs": [
        {
          "output_type": "execute_result",
          "data": {
            "text/plain": [
              "ph                 float64\n",
              "Hardness           float64\n",
              "Solids             float64\n",
              "Chloramines        float64\n",
              "Sulfate            float64\n",
              "Conductivity       float64\n",
              "Organic_carbon     float64\n",
              "Trihalomethanes    float64\n",
              "Turbidity          float64\n",
              "Potability           int64\n",
              "dtype: object"
            ]
          },
          "metadata": {},
          "execution_count": 89
        }
      ]
    },
    {
      "cell_type": "code",
      "source": [
        "# Looking at the basic stats of the dataset\n",
        "df.describe()"
      ],
      "metadata": {
        "colab": {
          "base_uri": "https://localhost:8080/",
          "height": 300
        },
        "id": "4MmImzAqcMmG",
        "outputId": "cc49ddf9-1516-4846-c4d0-550b8ebaab59"
      },
      "execution_count": 90,
      "outputs": [
        {
          "output_type": "execute_result",
          "data": {
            "text/plain": [
              "                ph     Hardness        Solids  Chloramines      Sulfate  \\\n",
              "count  2785.000000  3276.000000   3276.000000  3276.000000  2495.000000   \n",
              "mean      7.080795   196.369496  22014.092526     7.122277   333.775777   \n",
              "std       1.594320    32.879761   8768.570828     1.583085    41.416840   \n",
              "min       0.000000    47.432000    320.942611     0.352000   129.000000   \n",
              "25%       6.093092   176.850538  15666.690297     6.127421   307.699498   \n",
              "50%       7.036752   196.967627  20927.833607     7.130299   333.073546   \n",
              "75%       8.062066   216.667456  27332.762127     8.114887   359.950170   \n",
              "max      14.000000   323.124000  61227.196008    13.127000   481.030642   \n",
              "\n",
              "       Conductivity  Organic_carbon  Trihalomethanes    Turbidity   Potability  \n",
              "count   3276.000000     3276.000000      3114.000000  3276.000000  3276.000000  \n",
              "mean     426.205111       14.284970        66.396293     3.966786     0.390110  \n",
              "std       80.824064        3.308162        16.175008     0.780382     0.487849  \n",
              "min      181.483754        2.200000         0.738000     1.450000     0.000000  \n",
              "25%      365.734414       12.065801        55.844536     3.439711     0.000000  \n",
              "50%      421.884968       14.218338        66.622485     3.955028     0.000000  \n",
              "75%      481.792304       16.557652        77.337473     4.500320     1.000000  \n",
              "max      753.342620       28.300000       124.000000     6.739000     1.000000  "
            ],
            "text/html": [
              "\n",
              "  <div id=\"df-5ff1e2cf-7671-4eaf-98c6-c741f18ecc74\">\n",
              "    <div class=\"colab-df-container\">\n",
              "      <div>\n",
              "<style scoped>\n",
              "    .dataframe tbody tr th:only-of-type {\n",
              "        vertical-align: middle;\n",
              "    }\n",
              "\n",
              "    .dataframe tbody tr th {\n",
              "        vertical-align: top;\n",
              "    }\n",
              "\n",
              "    .dataframe thead th {\n",
              "        text-align: right;\n",
              "    }\n",
              "</style>\n",
              "<table border=\"1\" class=\"dataframe\">\n",
              "  <thead>\n",
              "    <tr style=\"text-align: right;\">\n",
              "      <th></th>\n",
              "      <th>ph</th>\n",
              "      <th>Hardness</th>\n",
              "      <th>Solids</th>\n",
              "      <th>Chloramines</th>\n",
              "      <th>Sulfate</th>\n",
              "      <th>Conductivity</th>\n",
              "      <th>Organic_carbon</th>\n",
              "      <th>Trihalomethanes</th>\n",
              "      <th>Turbidity</th>\n",
              "      <th>Potability</th>\n",
              "    </tr>\n",
              "  </thead>\n",
              "  <tbody>\n",
              "    <tr>\n",
              "      <th>count</th>\n",
              "      <td>2785.000000</td>\n",
              "      <td>3276.000000</td>\n",
              "      <td>3276.000000</td>\n",
              "      <td>3276.000000</td>\n",
              "      <td>2495.000000</td>\n",
              "      <td>3276.000000</td>\n",
              "      <td>3276.000000</td>\n",
              "      <td>3114.000000</td>\n",
              "      <td>3276.000000</td>\n",
              "      <td>3276.000000</td>\n",
              "    </tr>\n",
              "    <tr>\n",
              "      <th>mean</th>\n",
              "      <td>7.080795</td>\n",
              "      <td>196.369496</td>\n",
              "      <td>22014.092526</td>\n",
              "      <td>7.122277</td>\n",
              "      <td>333.775777</td>\n",
              "      <td>426.205111</td>\n",
              "      <td>14.284970</td>\n",
              "      <td>66.396293</td>\n",
              "      <td>3.966786</td>\n",
              "      <td>0.390110</td>\n",
              "    </tr>\n",
              "    <tr>\n",
              "      <th>std</th>\n",
              "      <td>1.594320</td>\n",
              "      <td>32.879761</td>\n",
              "      <td>8768.570828</td>\n",
              "      <td>1.583085</td>\n",
              "      <td>41.416840</td>\n",
              "      <td>80.824064</td>\n",
              "      <td>3.308162</td>\n",
              "      <td>16.175008</td>\n",
              "      <td>0.780382</td>\n",
              "      <td>0.487849</td>\n",
              "    </tr>\n",
              "    <tr>\n",
              "      <th>min</th>\n",
              "      <td>0.000000</td>\n",
              "      <td>47.432000</td>\n",
              "      <td>320.942611</td>\n",
              "      <td>0.352000</td>\n",
              "      <td>129.000000</td>\n",
              "      <td>181.483754</td>\n",
              "      <td>2.200000</td>\n",
              "      <td>0.738000</td>\n",
              "      <td>1.450000</td>\n",
              "      <td>0.000000</td>\n",
              "    </tr>\n",
              "    <tr>\n",
              "      <th>25%</th>\n",
              "      <td>6.093092</td>\n",
              "      <td>176.850538</td>\n",
              "      <td>15666.690297</td>\n",
              "      <td>6.127421</td>\n",
              "      <td>307.699498</td>\n",
              "      <td>365.734414</td>\n",
              "      <td>12.065801</td>\n",
              "      <td>55.844536</td>\n",
              "      <td>3.439711</td>\n",
              "      <td>0.000000</td>\n",
              "    </tr>\n",
              "    <tr>\n",
              "      <th>50%</th>\n",
              "      <td>7.036752</td>\n",
              "      <td>196.967627</td>\n",
              "      <td>20927.833607</td>\n",
              "      <td>7.130299</td>\n",
              "      <td>333.073546</td>\n",
              "      <td>421.884968</td>\n",
              "      <td>14.218338</td>\n",
              "      <td>66.622485</td>\n",
              "      <td>3.955028</td>\n",
              "      <td>0.000000</td>\n",
              "    </tr>\n",
              "    <tr>\n",
              "      <th>75%</th>\n",
              "      <td>8.062066</td>\n",
              "      <td>216.667456</td>\n",
              "      <td>27332.762127</td>\n",
              "      <td>8.114887</td>\n",
              "      <td>359.950170</td>\n",
              "      <td>481.792304</td>\n",
              "      <td>16.557652</td>\n",
              "      <td>77.337473</td>\n",
              "      <td>4.500320</td>\n",
              "      <td>1.000000</td>\n",
              "    </tr>\n",
              "    <tr>\n",
              "      <th>max</th>\n",
              "      <td>14.000000</td>\n",
              "      <td>323.124000</td>\n",
              "      <td>61227.196008</td>\n",
              "      <td>13.127000</td>\n",
              "      <td>481.030642</td>\n",
              "      <td>753.342620</td>\n",
              "      <td>28.300000</td>\n",
              "      <td>124.000000</td>\n",
              "      <td>6.739000</td>\n",
              "      <td>1.000000</td>\n",
              "    </tr>\n",
              "  </tbody>\n",
              "</table>\n",
              "</div>\n",
              "      <button class=\"colab-df-convert\" onclick=\"convertToInteractive('df-5ff1e2cf-7671-4eaf-98c6-c741f18ecc74')\"\n",
              "              title=\"Convert this dataframe to an interactive table.\"\n",
              "              style=\"display:none;\">\n",
              "        \n",
              "  <svg xmlns=\"http://www.w3.org/2000/svg\" height=\"24px\"viewBox=\"0 0 24 24\"\n",
              "       width=\"24px\">\n",
              "    <path d=\"M0 0h24v24H0V0z\" fill=\"none\"/>\n",
              "    <path d=\"M18.56 5.44l.94 2.06.94-2.06 2.06-.94-2.06-.94-.94-2.06-.94 2.06-2.06.94zm-11 1L8.5 8.5l.94-2.06 2.06-.94-2.06-.94L8.5 2.5l-.94 2.06-2.06.94zm10 10l.94 2.06.94-2.06 2.06-.94-2.06-.94-.94-2.06-.94 2.06-2.06.94z\"/><path d=\"M17.41 7.96l-1.37-1.37c-.4-.4-.92-.59-1.43-.59-.52 0-1.04.2-1.43.59L10.3 9.45l-7.72 7.72c-.78.78-.78 2.05 0 2.83L4 21.41c.39.39.9.59 1.41.59.51 0 1.02-.2 1.41-.59l7.78-7.78 2.81-2.81c.8-.78.8-2.07 0-2.86zM5.41 20L4 18.59l7.72-7.72 1.47 1.35L5.41 20z\"/>\n",
              "  </svg>\n",
              "      </button>\n",
              "      \n",
              "  <style>\n",
              "    .colab-df-container {\n",
              "      display:flex;\n",
              "      flex-wrap:wrap;\n",
              "      gap: 12px;\n",
              "    }\n",
              "\n",
              "    .colab-df-convert {\n",
              "      background-color: #E8F0FE;\n",
              "      border: none;\n",
              "      border-radius: 50%;\n",
              "      cursor: pointer;\n",
              "      display: none;\n",
              "      fill: #1967D2;\n",
              "      height: 32px;\n",
              "      padding: 0 0 0 0;\n",
              "      width: 32px;\n",
              "    }\n",
              "\n",
              "    .colab-df-convert:hover {\n",
              "      background-color: #E2EBFA;\n",
              "      box-shadow: 0px 1px 2px rgba(60, 64, 67, 0.3), 0px 1px 3px 1px rgba(60, 64, 67, 0.15);\n",
              "      fill: #174EA6;\n",
              "    }\n",
              "\n",
              "    [theme=dark] .colab-df-convert {\n",
              "      background-color: #3B4455;\n",
              "      fill: #D2E3FC;\n",
              "    }\n",
              "\n",
              "    [theme=dark] .colab-df-convert:hover {\n",
              "      background-color: #434B5C;\n",
              "      box-shadow: 0px 1px 3px 1px rgba(0, 0, 0, 0.15);\n",
              "      filter: drop-shadow(0px 1px 2px rgba(0, 0, 0, 0.3));\n",
              "      fill: #FFFFFF;\n",
              "    }\n",
              "  </style>\n",
              "\n",
              "      <script>\n",
              "        const buttonEl =\n",
              "          document.querySelector('#df-5ff1e2cf-7671-4eaf-98c6-c741f18ecc74 button.colab-df-convert');\n",
              "        buttonEl.style.display =\n",
              "          google.colab.kernel.accessAllowed ? 'block' : 'none';\n",
              "\n",
              "        async function convertToInteractive(key) {\n",
              "          const element = document.querySelector('#df-5ff1e2cf-7671-4eaf-98c6-c741f18ecc74');\n",
              "          const dataTable =\n",
              "            await google.colab.kernel.invokeFunction('convertToInteractive',\n",
              "                                                     [key], {});\n",
              "          if (!dataTable) return;\n",
              "\n",
              "          const docLinkHtml = 'Like what you see? Visit the ' +\n",
              "            '<a target=\"_blank\" href=https://colab.research.google.com/notebooks/data_table.ipynb>data table notebook</a>'\n",
              "            + ' to learn more about interactive tables.';\n",
              "          element.innerHTML = '';\n",
              "          dataTable['output_type'] = 'display_data';\n",
              "          await google.colab.output.renderOutput(dataTable, element);\n",
              "          const docLink = document.createElement('div');\n",
              "          docLink.innerHTML = docLinkHtml;\n",
              "          element.appendChild(docLink);\n",
              "        }\n",
              "      </script>\n",
              "    </div>\n",
              "  </div>\n",
              "  "
            ]
          },
          "metadata": {},
          "execution_count": 90
        }
      ]
    },
    {
      "cell_type": "code",
      "source": [
        "# Looking for missing values\n",
        "df.isna().sum()"
      ],
      "metadata": {
        "colab": {
          "base_uri": "https://localhost:8080/"
        },
        "id": "1bGGQTDZcPne",
        "outputId": "75742084-460a-4224-8fe7-198920af16a1"
      },
      "execution_count": 91,
      "outputs": [
        {
          "output_type": "execute_result",
          "data": {
            "text/plain": [
              "ph                 491\n",
              "Hardness             0\n",
              "Solids               0\n",
              "Chloramines          0\n",
              "Sulfate            781\n",
              "Conductivity         0\n",
              "Organic_carbon       0\n",
              "Trihalomethanes    162\n",
              "Turbidity            0\n",
              "Potability           0\n",
              "dtype: int64"
            ]
          },
          "metadata": {},
          "execution_count": 91
        }
      ]
    },
    {
      "cell_type": "code",
      "source": [
        "for i in df.columns[df.isna().any(axis=0)]:\n",
        "  df[i].fillna(df[i].mean(),inplace = True)\n",
        "df.isna().sum()"
      ],
      "metadata": {
        "colab": {
          "base_uri": "https://localhost:8080/"
        },
        "id": "Oaxn-NYvlaM8",
        "outputId": "3f658409-2e12-4df3-c24f-1d9da85a63e6"
      },
      "execution_count": 92,
      "outputs": [
        {
          "output_type": "execute_result",
          "data": {
            "text/plain": [
              "ph                 0\n",
              "Hardness           0\n",
              "Solids             0\n",
              "Chloramines        0\n",
              "Sulfate            0\n",
              "Conductivity       0\n",
              "Organic_carbon     0\n",
              "Trihalomethanes    0\n",
              "Turbidity          0\n",
              "Potability         0\n",
              "dtype: int64"
            ]
          },
          "metadata": {},
          "execution_count": 92
        }
      ]
    },
    {
      "cell_type": "markdown",
      "source": [
        "There are no missing values in the dataset so I am going to move on to the visualizations"
      ],
      "metadata": {
        "id": "S_sFOT07dACv"
      }
    },
    {
      "cell_type": "markdown",
      "source": [
        "Making a bar chart of the count of what is considered drinkable and what is considered not drinkable water in the dataset."
      ],
      "metadata": {
        "id": "pyB8EiDWeR5w"
      }
    },
    {
      "cell_type": "code",
      "source": [
        "drink_count = df['Potability'].value_counts()\n",
        "sns.barplot(x=drink_count.index, y= drink_count.values, alpha = 1)\n",
        "plt.title('Count of Drinkable and Undrinkable Water')\n",
        "plt.xlabel('Drinkability')\n",
        "plt.ylabel('Count')\n",
        "# the 0's mean Gonen rice and the 1's mean Jasmine rice"
      ],
      "metadata": {
        "colab": {
          "base_uri": "https://localhost:8080/",
          "height": 312
        },
        "id": "7GNgIdNYeGHX",
        "outputId": "1574e7e9-aac8-4b0e-a254-b0b93309f67f"
      },
      "execution_count": 140,
      "outputs": [
        {
          "output_type": "execute_result",
          "data": {
            "text/plain": [
              "Text(0, 0.5, 'Count')"
            ]
          },
          "metadata": {},
          "execution_count": 140
        },
        {
          "output_type": "display_data",
          "data": {
            "text/plain": [
              "<Figure size 432x288 with 1 Axes>"
            ],
            "image/png": "[encoded data removed]"
          },
          "metadata": {
            "needs_background": "light"
          }
        }
      ]
    },
    {
      "cell_type": "markdown",
      "source": [
        "Making a histogram of the Hardness of water. Hardness of water is caused by the calcium and magnesium salts dissolving in water.\n"
      ],
      "metadata": {
        "id": "lpLXKX4_e9_w"
      }
    },
    {
      "cell_type": "code",
      "source": [
        "sns.displot(x='Hardness', data=df)\n",
        "plt.title(\"Distribution of hardness\")"
      ],
      "metadata": {
        "colab": {
          "base_uri": "https://localhost:8080/",
          "height": 402
        },
        "id": "bNmwLE00eybo",
        "outputId": "7c51e9ab-433f-4477-f98c-f7e4e95457df"
      },
      "execution_count": 142,
      "outputs": [
        {
          "output_type": "execute_result",
          "data": {
            "text/plain": [
              "Text(0.5, 1.0, 'Distribution of hardness')"
            ]
          },
          "metadata": {},
          "execution_count": 142
        },
        {
          "output_type": "display_data",
          "data": {
            "text/plain": [
              "<Figure size 360x360 with 1 Axes>"
            ],
            "image/png": "[encoded data removed]"
          },
          "metadata": {
            "needs_background": "light"
          }
        }
      ]
    },
    {
      "cell_type": "markdown",
      "source": [
        "Making a histogram of the solids in water. Total Dissolved Solids (TDS) is the amount of inorganic and some organic minerals dissolved in water. For drinking purposes the recommended amount is 500 ppm to 1000 ppm."
      ],
      "metadata": {
        "id": "Ngqg6BNSf0X4"
      }
    },
    {
      "cell_type": "code",
      "source": [
        "sns.displot(x='Solids', data=df)\n",
        "plt.title(\"Distribution of Solids\")"
      ],
      "metadata": {
        "colab": {
          "base_uri": "https://localhost:8080/",
          "height": 402
        },
        "id": "VuhPfS_rfyWm",
        "outputId": "51c5db5d-9c95-4cf8-da2b-0e552f522acd"
      },
      "execution_count": 143,
      "outputs": [
        {
          "output_type": "execute_result",
          "data": {
            "text/plain": [
              "Text(0.5, 1.0, 'Distribution of Solids')"
            ]
          },
          "metadata": {},
          "execution_count": 143
        },
        {
          "output_type": "display_data",
          "data": {
            "text/plain": [
              "<Figure size 360x360 with 1 Axes>"
            ],
            "image/png": "[encoded data removed]"
          },
          "metadata": {
            "needs_background": "light"
          }
        }
      ]
    },
    {
      "cell_type": "markdown",
      "source": [
        "Making a histogram of the Trihalomethanes (THM) in the water. THMs are chemicals found in water that has been treated with chlorine. THM levels up to 80 ppm are considered safe to drink."
      ],
      "metadata": {
        "id": "NyARwD4LhH0R"
      }
    },
    {
      "cell_type": "code",
      "source": [
        "sns.displot(x='Trihalomethanes', data=df)\n",
        "plt.title('Distribution of Trihalomethanes')"
      ],
      "metadata": {
        "colab": {
          "base_uri": "https://localhost:8080/",
          "height": 402
        },
        "id": "lfe4fIbig7uR",
        "outputId": "92b1ef8c-8d20-4272-a1c8-96c38a064bef"
      },
      "execution_count": 144,
      "outputs": [
        {
          "output_type": "execute_result",
          "data": {
            "text/plain": [
              "Text(0.5, 1.0, 'Distribution of Trihalomethanes')"
            ]
          },
          "metadata": {},
          "execution_count": 144
        },
        {
          "output_type": "display_data",
          "data": {
            "text/plain": [
              "<Figure size 360x360 with 1 Axes>"
            ],
            "image/png": "[encoded data removed]"
          },
          "metadata": {
            "needs_background": "light"
          }
        }
      ]
    },
    {
      "cell_type": "markdown",
      "source": [
        "Making a correlation heatmap of the columns in this dataset. The lower the correlation value the better because it would mean there is no multicollinearity between the independent variables in the dataset. "
      ],
      "metadata": {
        "id": "_xK72APqiHC5"
      }
    },
    {
      "cell_type": "code",
      "source": [
        "sns.heatmap(df.corr(), annot=True, fmt ='.0%')"
      ],
      "metadata": {
        "colab": {
          "base_uri": "https://localhost:8080/",
          "height": 359
        },
        "id": "wwgKBStPiGua",
        "outputId": "a3d81e31-5b9e-4063-f2aa-9fecf0abcca7"
      },
      "execution_count": 145,
      "outputs": [
        {
          "output_type": "execute_result",
          "data": {
            "text/plain": [
              "<matplotlib.axes._subplots.AxesSubplot at 0x7f83ed8b3250>"
            ]
          },
          "metadata": {},
          "execution_count": 145
        },
        {
          "output_type": "display_data",
          "data": {
            "text/plain": [
              "<Figure size 432x288 with 2 Axes>"
            ],
            "image/png": "[encoded data removed]"
          },
          "metadata": {
            "needs_background": "light"
          }
        }
      ]
    },
    {
      "cell_type": "markdown",
      "source": [
        "All the correlations are low so there is no multicollinearity in this dataset."
      ],
      "metadata": {
        "id": "5RBQ_MrwrixP"
      }
    },
    {
      "cell_type": "code",
      "source": [
        "X= df.iloc[:,:-1].values\n",
        "X"
      ],
      "metadata": {
        "colab": {
          "base_uri": "https://localhost:8080/"
        },
        "id": "TywMDxwoiAto",
        "outputId": "05e597a5-4a81-4afa-83fd-9b744ae55dba"
      },
      "execution_count": 146,
      "outputs": [
        {
          "output_type": "execute_result",
          "data": {
            "text/plain": [
              "array([[7.53205858e+00, 1.85506563e+02, 2.44547259e+04, ...,\n",
              "        1.50702481e+01, 7.47806430e+01, 3.80856992e+00],\n",
              "       [6.19865034e+00, 2.46476962e+02, 3.13695416e+04, ...,\n",
              "        1.05229346e+01, 6.21254690e+01, 3.57417202e+00],\n",
              "       [7.08079450e+00, 1.46250325e+02, 2.56233405e+04, ...,\n",
              "        8.35486712e+00, 6.90015747e+01, 3.58288237e+00],\n",
              "       ...,\n",
              "       [6.91486815e+00, 2.06249937e+02, 1.03433788e+04, ...,\n",
              "        1.61737302e+01, 6.82469447e+01, 2.98861144e+00],\n",
              "       [5.92373995e+00, 2.00561213e+02, 3.33060125e+04, ...,\n",
              "        1.37978697e+01, 6.34634088e+01, 3.88446037e+00],\n",
              "       [6.48399451e+00, 1.80445051e+02, 2.90327811e+04, ...,\n",
              "        1.78858773e+01, 7.59397157e+01, 2.68864329e+00]])"
            ]
          },
          "metadata": {},
          "execution_count": 146
        }
      ]
    },
    {
      "cell_type": "markdown",
      "source": [
        "Getting the target values and setting them as the y variable."
      ],
      "metadata": {
        "id": "q4wwjuZ6kLJj"
      }
    },
    {
      "cell_type": "code",
      "source": [
        "y = df.iloc[:,-1:]\n",
        "y.values"
      ],
      "metadata": {
        "colab": {
          "base_uri": "https://localhost:8080/"
        },
        "id": "cE5vz-ECjQaC",
        "outputId": "47bc3e4f-434b-42e0-9208-754d5d49a7d9"
      },
      "execution_count": 147,
      "outputs": [
        {
          "output_type": "execute_result",
          "data": {
            "text/plain": [
              "array([[0],\n",
              "       [1],\n",
              "       [0],\n",
              "       ...,\n",
              "       [0],\n",
              "       [0],\n",
              "       [0]])"
            ]
          },
          "metadata": {},
          "execution_count": 147
        }
      ]
    },
    {
      "cell_type": "markdown",
      "source": [
        "Splitting the dataset so that 30% of it will be used as test. (random_state=20)"
      ],
      "metadata": {
        "id": "eJE9FMIlkfnr"
      }
    },
    {
      "cell_type": "code",
      "source": [
        "X_train, X_test, y_train, y_test = train_test_split(X, y, test_size = 0.30, random_state = 20)"
      ],
      "metadata": {
        "id": "IwatrRrCkQED"
      },
      "execution_count": 148,
      "outputs": []
    },
    {
      "cell_type": "markdown",
      "source": [
        "Standarding the features so that there are no skewedness between the features of the dataset."
      ],
      "metadata": {
        "id": "17X-dDt-k0gN"
      }
    },
    {
      "cell_type": "code",
      "source": [
        "sc = StandardScaler()\n",
        "X_train = sc.fit_transform(X_train)\n",
        "X_test = sc.transform(X_test)"
      ],
      "metadata": {
        "id": "F3cA7eIIkvHx"
      },
      "execution_count": 149,
      "outputs": []
    },
    {
      "cell_type": "markdown",
      "source": [
        "Training the data tree model"
      ],
      "metadata": {
        "id": "WLkDZ9RXlKsd"
      }
    },
    {
      "cell_type": "code",
      "source": [
        "dt = DecisionTreeClassifier()\n",
        "dt.fit(X_train, y_train)"
      ],
      "metadata": {
        "colab": {
          "base_uri": "https://localhost:8080/"
        },
        "id": "DerffqG1k_-z",
        "outputId": "1ee3745f-6d0e-4047-98ea-468d80c6037e"
      },
      "execution_count": 150,
      "outputs": [
        {
          "output_type": "execute_result",
          "data": {
            "text/plain": [
              "DecisionTreeClassifier()"
            ]
          },
          "metadata": {},
          "execution_count": 150
        }
      ]
    },
    {
      "cell_type": "markdown",
      "source": [
        "Performing a 5 fold cross validation on the decision tree model."
      ],
      "metadata": {
        "id": "Ufbvz6x8lUwz"
      }
    },
    {
      "cell_type": "code",
      "source": [
        "k = 5\n",
        "kf = KFold(n_splits=k)\n",
        "result_dt = cross_val_score(dt, X_train, y_train, cv = kf, scoring='accuracy')\n",
        " \n",
        "print(f' Avg accuracy:{result_dt.mean()}')"
      ],
      "metadata": {
        "colab": {
          "base_uri": "https://localhost:8080/"
        },
        "id": "EHjNd5FKlChr",
        "outputId": "c4bae353-8b2f-4b84-db8c-31381155fcf0"
      },
      "execution_count": 151,
      "outputs": [
        {
          "output_type": "stream",
          "name": "stdout",
          "text": [
            " Avg accuracy:0.5992236778262979\n"
          ]
        }
      ]
    },
    {
      "cell_type": "markdown",
      "source": [
        "Making predictions with the decision tree"
      ],
      "metadata": {
        "id": "rJMkBreRlgo0"
      }
    },
    {
      "cell_type": "code",
      "source": [
        "y_pred_dt = dt.predict(X_test)"
      ],
      "metadata": {
        "id": "3yH1gUn0lcZr"
      },
      "execution_count": 152,
      "outputs": []
    },
    {
      "cell_type": "markdown",
      "source": [
        "Decision Tree Classification Report\n",
        "\n"
      ],
      "metadata": {
        "id": "E38iP5cdloeL"
      }
    },
    {
      "cell_type": "code",
      "source": [
        "print(classification_report(y_test, y_pred_dt))"
      ],
      "metadata": {
        "colab": {
          "base_uri": "https://localhost:8080/"
        },
        "id": "TS7bGa8clmHL",
        "outputId": "ae1a36b7-6f26-4925-d6fc-5fe0767210b1"
      },
      "execution_count": 153,
      "outputs": [
        {
          "output_type": "stream",
          "name": "stdout",
          "text": [
            "              precision    recall  f1-score   support\n",
            "\n",
            "           0       0.65      0.68      0.67       609\n",
            "           1       0.44      0.41      0.43       374\n",
            "\n",
            "    accuracy                           0.58       983\n",
            "   macro avg       0.55      0.55      0.55       983\n",
            "weighted avg       0.57      0.58      0.58       983\n",
            "\n"
          ]
        }
      ]
    },
    {
      "cell_type": "markdown",
      "source": [
        "Creating the random forest model"
      ],
      "metadata": {
        "id": "w4KmkE6Ul6-U"
      }
    },
    {
      "cell_type": "code",
      "source": [
        "rf = RandomForestClassifier(n_estimators=10, criterion='gini',random_state=20)\n",
        "rf.fit(X_train,y_train.values.ravel())"
      ],
      "metadata": {
        "colab": {
          "base_uri": "https://localhost:8080/"
        },
        "id": "z2vXN2jklrYb",
        "outputId": "b6d29a30-258f-4160-e728-bc51af6b8494"
      },
      "execution_count": 154,
      "outputs": [
        {
          "output_type": "execute_result",
          "data": {
            "text/plain": [
              "RandomForestClassifier(n_estimators=10, random_state=20)"
            ]
          },
          "metadata": {},
          "execution_count": 154
        }
      ]
    },
    {
      "cell_type": "markdown",
      "source": [
        "Performing a 5 fold cross validation for the random forest"
      ],
      "metadata": {
        "id": "OoiX2llpmBQD"
      }
    },
    {
      "cell_type": "code",
      "source": [
        "k = 5\n",
        "kf = KFold(n_splits=k)\n",
        "result_rf = cross_val_score(rf, X_train, y_train.values.ravel(), cv = kf, scoring='accuracy')\n",
        " \n",
        "print(f' Avg accuracy:{result_rf.mean()}')"
      ],
      "metadata": {
        "colab": {
          "base_uri": "https://localhost:8080/"
        },
        "id": "NIfTQvHPl9_T",
        "outputId": "9bf41f01-4ed7-43fc-b32f-77ecc5799fb4"
      },
      "execution_count": 155,
      "outputs": [
        {
          "output_type": "stream",
          "name": "stdout",
          "text": [
            " Avg accuracy:0.6380245645079963\n"
          ]
        }
      ]
    },
    {
      "cell_type": "markdown",
      "source": [
        "Predictions with the random forest model"
      ],
      "metadata": {
        "id": "rJVYJ-dZ8U8Z"
      }
    },
    {
      "cell_type": "code",
      "source": [
        "y_pred_rf = rf.predict(X_test)"
      ],
      "metadata": {
        "id": "FM6pNGHP8Yoh"
      },
      "execution_count": 156,
      "outputs": []
    },
    {
      "cell_type": "markdown",
      "source": [
        "Random Forest Classification Report"
      ],
      "metadata": {
        "id": "A3lfc7OfoP22"
      }
    },
    {
      "cell_type": "code",
      "source": [
        "print(classification_report(y_test, y_pred_rf))"
      ],
      "metadata": {
        "colab": {
          "base_uri": "https://localhost:8080/"
        },
        "id": "KcOnRaFxmSYT",
        "outputId": "25cb6d43-61a7-4c81-8c1d-876478389309"
      },
      "execution_count": 157,
      "outputs": [
        {
          "output_type": "stream",
          "name": "stdout",
          "text": [
            "              precision    recall  f1-score   support\n",
            "\n",
            "           0       0.65      0.86      0.74       609\n",
            "           1       0.52      0.26      0.35       374\n",
            "\n",
            "    accuracy                           0.63       983\n",
            "   macro avg       0.59      0.56      0.54       983\n",
            "weighted avg       0.60      0.63      0.59       983\n",
            "\n"
          ]
        }
      ]
    },
    {
      "cell_type": "markdown",
      "source": [
        "Training the KNN model"
      ],
      "metadata": {
        "id": "MTMLdFVgpI5m"
      }
    },
    {
      "cell_type": "code",
      "source": [
        "knn = KNeighborsClassifier(n_neighbors=5)\n",
        "knn.fit(X_train, y_train.values.ravel())"
      ],
      "metadata": {
        "colab": {
          "base_uri": "https://localhost:8080/"
        },
        "id": "UJnuWeghpGQd",
        "outputId": "5432b4d6-9743-48ff-db88-a740d0309b52"
      },
      "execution_count": 158,
      "outputs": [
        {
          "output_type": "execute_result",
          "data": {
            "text/plain": [
              "KNeighborsClassifier()"
            ]
          },
          "metadata": {},
          "execution_count": 158
        }
      ]
    },
    {
      "cell_type": "markdown",
      "source": [
        "Performing a 5 fold cross validation for KNN model"
      ],
      "metadata": {
        "id": "bLm0xnkYpWAe"
      }
    },
    {
      "cell_type": "code",
      "source": [
        "k = 5\n",
        "kf = KFold(n_splits=k)\n",
        "\n",
        "#for other scoring parameters see here https://scikit-learn.org/stable/modules/model_evaluation.html\n",
        "result = cross_val_score(knn, X_train, y_train.values.ravel(), cv = kf, scoring='accuracy')\n",
        " \n",
        "print(f' Avg accuracy:{result.mean()}')"
      ],
      "metadata": {
        "colab": {
          "base_uri": "https://localhost:8080/"
        },
        "id": "40ElHZSmpNXN",
        "outputId": "9f9e5cc2-a47a-4821-a035-2cfc302e0fd0"
      },
      "execution_count": 159,
      "outputs": [
        {
          "output_type": "stream",
          "name": "stdout",
          "text": [
            " Avg accuracy:0.6349801638268117\n"
          ]
        }
      ]
    },
    {
      "cell_type": "markdown",
      "source": [
        "KNN model making classifications"
      ],
      "metadata": {
        "id": "uYdPrH_p8wFi"
      }
    },
    {
      "cell_type": "code",
      "source": [
        "y_pred = knn.predict(X_test)"
      ],
      "metadata": {
        "id": "lKUcx4Qd8vVT"
      },
      "execution_count": 160,
      "outputs": []
    },
    {
      "cell_type": "markdown",
      "source": [
        "KNN Classification Report"
      ],
      "metadata": {
        "id": "1cjxH_Teps3l"
      }
    },
    {
      "cell_type": "code",
      "source": [
        "print(classification_report(y_test, y_pred))"
      ],
      "metadata": {
        "colab": {
          "base_uri": "https://localhost:8080/"
        },
        "id": "HMC1ec6cpbTG",
        "outputId": "c57a8535-d20e-4f92-a410-7fa676bdcd50"
      },
      "execution_count": 161,
      "outputs": [
        {
          "output_type": "stream",
          "name": "stdout",
          "text": [
            "              precision    recall  f1-score   support\n",
            "\n",
            "           0       0.67      0.78      0.72       609\n",
            "           1       0.51      0.38      0.43       374\n",
            "\n",
            "    accuracy                           0.63       983\n",
            "   macro avg       0.59      0.58      0.58       983\n",
            "weighted avg       0.61      0.63      0.61       983\n",
            "\n"
          ]
        }
      ]
    },
    {
      "cell_type": "markdown",
      "source": [
        "Training the support vector machine model with the linear kernel, RBF kernel, Poly kernel, and Sigmoid kernel"
      ],
      "metadata": {
        "id": "A8OjBDD2rZRQ"
      }
    },
    {
      "cell_type": "code",
      "source": [
        "linear = svm.SVC(kernel='linear', C=4, decision_function_shape='ovo').fit(X_train, y_train.values.ravel())\n",
        "rbf = svm.SVC(kernel='rbf', gamma=1, C=1, decision_function_shape='ovo').fit(X_train, y_train.values.ravel())\n",
        "poly = svm.SVC(kernel='poly', degree=3, C=1, decision_function_shape='ovo').fit(X_train, y_train.values.ravel())\n",
        "sig = svm.SVC(kernel='sigmoid', C=1, decision_function_shape='ovo').fit(X_train, y_train.values.ravel())"
      ],
      "metadata": {
        "id": "PCF00sv3qDn-"
      },
      "execution_count": 162,
      "outputs": []
    },
    {
      "cell_type": "markdown",
      "source": [
        "Performing a 5 fold cross validation on linear SVM\n"
      ],
      "metadata": {
        "id": "27bjE_Buset4"
      }
    },
    {
      "cell_type": "code",
      "source": [
        "result = cross_val_score(linear, X_train, y_train.values.ravel(), cv = kf, scoring='accuracy')\n",
        " \n",
        "print(f' Avg accuracy:{result.mean()}')"
      ],
      "metadata": {
        "colab": {
          "base_uri": "https://localhost:8080/"
        },
        "id": "DDReXHghr6qA",
        "outputId": "f81c5acb-5116-4ec2-debc-7ce1e90cbb28"
      },
      "execution_count": 163,
      "outputs": [
        {
          "output_type": "stream",
          "name": "stdout",
          "text": [
            " Avg accuracy:0.6057386952840331\n"
          ]
        }
      ]
    },
    {
      "cell_type": "markdown",
      "source": [
        "Performing a 5 fold cross validation on RBF SVM"
      ],
      "metadata": {
        "id": "_yvGn9W-ssFX"
      }
    },
    {
      "cell_type": "code",
      "source": [
        "result = cross_val_score(rbf, X_train, y_train.values.ravel(), cv = kf, scoring='accuracy')\n",
        " \n",
        "print(f' Avg accuracy:{result.mean()}')"
      ],
      "metadata": {
        "colab": {
          "base_uri": "https://localhost:8080/"
        },
        "id": "buD0xCT7snrX",
        "outputId": "24f46c7b-755a-4b79-d3f4-efbe180c30b0"
      },
      "execution_count": 164,
      "outputs": [
        {
          "output_type": "stream",
          "name": "stdout",
          "text": [
            " Avg accuracy:0.614028978888984\n"
          ]
        }
      ]
    },
    {
      "cell_type": "markdown",
      "source": [
        "Performing a 5 fold cross validation on Poly SVM"
      ],
      "metadata": {
        "id": "eIXl3NVOs7PZ"
      }
    },
    {
      "cell_type": "code",
      "source": [
        "result = cross_val_score(poly, X_train, y_train.values.ravel(), cv = kf, scoring='accuracy')\n",
        " \n",
        "print(f' Avg accuracy:{result.mean()}')"
      ],
      "metadata": {
        "colab": {
          "base_uri": "https://localhost:8080/"
        },
        "id": "y7zJvvghs5KI",
        "outputId": "8d4e8f58-8b4b-439d-cc20-ffd2edbf16fb"
      },
      "execution_count": 165,
      "outputs": [
        {
          "output_type": "stream",
          "name": "stdout",
          "text": [
            " Avg accuracy:0.6135961031671281\n"
          ]
        }
      ]
    },
    {
      "cell_type": "markdown",
      "source": [
        "Performing a 5 fold cross validation on Sigmoid SVM "
      ],
      "metadata": {
        "id": "afU-rPvFtDpw"
      }
    },
    {
      "cell_type": "code",
      "source": [
        "result = cross_val_score(sig, X_train, y_train.values.ravel(), cv = kf, scoring='accuracy')\n",
        " \n",
        "print(f' Avg accuracy:{result.mean()}')"
      ],
      "metadata": {
        "colab": {
          "base_uri": "https://localhost:8080/"
        },
        "id": "gMyaNF0atBoo",
        "outputId": "2f4b1b4a-7a43-41a0-d2c7-307a3fb8fbde"
      },
      "execution_count": 166,
      "outputs": [
        {
          "output_type": "stream",
          "name": "stdout",
          "text": [
            " Avg accuracy:0.5573431895805386\n"
          ]
        }
      ]
    },
    {
      "cell_type": "markdown",
      "source": [
        "Linear SVM Classification Report"
      ],
      "metadata": {
        "id": "iWFNoRS_tTki"
      }
    },
    {
      "cell_type": "code",
      "source": [
        "svm_linear_pred = linear.predict(X_test)\n",
        "\n",
        "print(classification_report(y_test, svm_linear_pred))"
      ],
      "metadata": {
        "colab": {
          "base_uri": "https://localhost:8080/"
        },
        "id": "4aL48ONutKUw",
        "outputId": "fd24144b-733d-416f-db70-7de4217ac41a"
      },
      "execution_count": 167,
      "outputs": [
        {
          "output_type": "stream",
          "name": "stdout",
          "text": [
            "              precision    recall  f1-score   support\n",
            "\n",
            "           0       0.62      1.00      0.77       609\n",
            "           1       0.00      0.00      0.00       374\n",
            "\n",
            "    accuracy                           0.62       983\n",
            "   macro avg       0.31      0.50      0.38       983\n",
            "weighted avg       0.38      0.62      0.47       983\n",
            "\n"
          ]
        },
        {
          "output_type": "stream",
          "name": "stderr",
          "text": [
            "/usr/local/lib/python3.7/dist-packages/sklearn/metrics/_classification.py:1318: UndefinedMetricWarning: Precision and F-score are ill-defined and being set to 0.0 in labels with no predicted samples. Use `zero_division` parameter to control this behavior.\n",
            "  _warn_prf(average, modifier, msg_start, len(result))\n",
            "/usr/local/lib/python3.7/dist-packages/sklearn/metrics/_classification.py:1318: UndefinedMetricWarning: Precision and F-score are ill-defined and being set to 0.0 in labels with no predicted samples. Use `zero_division` parameter to control this behavior.\n",
            "  _warn_prf(average, modifier, msg_start, len(result))\n",
            "/usr/local/lib/python3.7/dist-packages/sklearn/metrics/_classification.py:1318: UndefinedMetricWarning: Precision and F-score are ill-defined and being set to 0.0 in labels with no predicted samples. Use `zero_division` parameter to control this behavior.\n",
            "  _warn_prf(average, modifier, msg_start, len(result))\n"
          ]
        }
      ]
    },
    {
      "cell_type": "markdown",
      "source": [
        "RBF SVM Classification Report"
      ],
      "metadata": {
        "id": "2SmEAImcvjBy"
      }
    },
    {
      "cell_type": "code",
      "source": [
        "svm_rbf_pred = rbf.predict(X_test)\n",
        "print(classification_report(y_test, svm_rbf_pred))"
      ],
      "metadata": {
        "colab": {
          "base_uri": "https://localhost:8080/"
        },
        "id": "STpP0cnItZVw",
        "outputId": "004ac923-9262-48a3-eabc-09ce7a03e672"
      },
      "execution_count": 168,
      "outputs": [
        {
          "output_type": "stream",
          "name": "stdout",
          "text": [
            "              precision    recall  f1-score   support\n",
            "\n",
            "           0       0.62      0.94      0.74       609\n",
            "           1       0.35      0.06      0.10       374\n",
            "\n",
            "    accuracy                           0.60       983\n",
            "   macro avg       0.48      0.50      0.42       983\n",
            "weighted avg       0.52      0.60      0.50       983\n",
            "\n"
          ]
        }
      ]
    },
    {
      "cell_type": "markdown",
      "source": [
        "Poly SVM Classification Report"
      ],
      "metadata": {
        "id": "sGhKmxY_v4NL"
      }
    },
    {
      "cell_type": "code",
      "source": [
        "svm_poly_pred = poly.predict(X_test)\n",
        "print(classification_report(y_test, svm_poly_pred))"
      ],
      "metadata": {
        "colab": {
          "base_uri": "https://localhost:8080/"
        },
        "id": "NB_SUGqvvnFH",
        "outputId": "1d5f2513-526f-4c39-82d6-d0e57a44d9cc"
      },
      "execution_count": 169,
      "outputs": [
        {
          "output_type": "stream",
          "name": "stdout",
          "text": [
            "              precision    recall  f1-score   support\n",
            "\n",
            "           0       0.63      0.95      0.76       609\n",
            "           1       0.52      0.09      0.15       374\n",
            "\n",
            "    accuracy                           0.62       983\n",
            "   macro avg       0.58      0.52      0.46       983\n",
            "weighted avg       0.59      0.62      0.53       983\n",
            "\n"
          ]
        }
      ]
    },
    {
      "cell_type": "markdown",
      "source": [
        "Sigmoid SVM Classification Report"
      ],
      "metadata": {
        "id": "yooVOGhuwwV6"
      }
    },
    {
      "cell_type": "code",
      "source": [
        "svm_sig_pred = sig.predict(X_test)\n",
        "print(classification_report(y_test, svm_sig_pred))"
      ],
      "metadata": {
        "colab": {
          "base_uri": "https://localhost:8080/"
        },
        "id": "ZjHOgt3Vwvix",
        "outputId": "637e3c60-24ed-477f-e008-d0058c6f5e51"
      },
      "execution_count": 170,
      "outputs": [
        {
          "output_type": "stream",
          "name": "stdout",
          "text": [
            "              precision    recall  f1-score   support\n",
            "\n",
            "           0       0.61      0.68      0.64       609\n",
            "           1       0.36      0.29      0.32       374\n",
            "\n",
            "    accuracy                           0.53       983\n",
            "   macro avg       0.48      0.48      0.48       983\n",
            "weighted avg       0.51      0.53      0.52       983\n",
            "\n"
          ]
        }
      ]
    },
    {
      "cell_type": "markdown",
      "source": [
        "Training the Naive Bayes model with Gaussian distribution"
      ],
      "metadata": {
        "id": "ekbNEO2GycV0"
      }
    },
    {
      "cell_type": "code",
      "source": [
        "gnb = GaussianNB()\n",
        "gnb.fit(X_train, y_train.values.ravel())"
      ],
      "metadata": {
        "colab": {
          "base_uri": "https://localhost:8080/"
        },
        "id": "mp8IFD2Hw49K",
        "outputId": "18f09eec-6e68-43ce-9728-1ebfa8bf5fb9"
      },
      "execution_count": 171,
      "outputs": [
        {
          "output_type": "execute_result",
          "data": {
            "text/plain": [
              "GaussianNB()"
            ]
          },
          "metadata": {},
          "execution_count": 171
        }
      ]
    },
    {
      "cell_type": "markdown",
      "source": [
        "Performing a 5 fold cross validation on Gaussian Naive Bayes Model"
      ],
      "metadata": {
        "id": "Eyz5mnM4zBxo"
      }
    },
    {
      "cell_type": "code",
      "source": [
        "result = cross_val_score(gnb, X_train, y_train.values.ravel(), cv = kf, scoring='accuracy')\n",
        " \n",
        "print(f' Avg accuracy:{result.mean()}')"
      ],
      "metadata": {
        "colab": {
          "base_uri": "https://localhost:8080/"
        },
        "id": "Q_AbbH6izBi8",
        "outputId": "2ae1212f-9175-4ea4-863e-004b91153edb"
      },
      "execution_count": 172,
      "outputs": [
        {
          "output_type": "stream",
          "name": "stdout",
          "text": [
            " Avg accuracy:0.6192720076871117\n"
          ]
        }
      ]
    },
    {
      "cell_type": "markdown",
      "source": [
        "Gaussian Naive Bayes Classification Report"
      ],
      "metadata": {
        "id": "59qKSxXxyyE0"
      }
    },
    {
      "cell_type": "code",
      "source": [
        "y_pred_gnb = gnb.predict(X_test)\n",
        "print(classification_report(y_test, y_pred_gnb))"
      ],
      "metadata": {
        "colab": {
          "base_uri": "https://localhost:8080/"
        },
        "id": "7SI-yqtEyo6D",
        "outputId": "de537b8c-a324-48d1-fd32-f88da7418086"
      },
      "execution_count": 173,
      "outputs": [
        {
          "output_type": "stream",
          "name": "stdout",
          "text": [
            "              precision    recall  f1-score   support\n",
            "\n",
            "           0       0.65      0.86      0.74       609\n",
            "           1       0.53      0.25      0.34       374\n",
            "\n",
            "    accuracy                           0.63       983\n",
            "   macro avg       0.59      0.56      0.54       983\n",
            "weighted avg       0.60      0.63      0.59       983\n",
            "\n"
          ]
        }
      ]
    },
    {
      "cell_type": "markdown",
      "source": [
        "Training the logistic regression model"
      ],
      "metadata": {
        "id": "DhWDcUyY6CNg"
      }
    },
    {
      "cell_type": "code",
      "source": [
        "lr = LogisticRegression()\n",
        "\n",
        "lr.fit(X_train, y_train.values.ravel())"
      ],
      "metadata": {
        "colab": {
          "base_uri": "https://localhost:8080/"
        },
        "id": "1ETOtsP8y_Zb",
        "outputId": "3885d506-5180-46e4-b4de-bbe8aeb7b0dd"
      },
      "execution_count": 174,
      "outputs": [
        {
          "output_type": "execute_result",
          "data": {
            "text/plain": [
              "LogisticRegression()"
            ]
          },
          "metadata": {},
          "execution_count": 174
        }
      ]
    },
    {
      "cell_type": "markdown",
      "source": [
        "Performing 5 fold cross validatoin for Logistic Regression"
      ],
      "metadata": {
        "id": "2XalsIu5Xp78"
      }
    },
    {
      "cell_type": "code",
      "source": [
        "result = cross_val_score(lr, X_train, y_train.values.ravel(), cv = kf, scoring='accuracy')\n",
        " \n",
        "print(f' Avg accuracy:{result.mean()}')"
      ],
      "metadata": {
        "id": "dcsHMpQo6wp2",
        "colab": {
          "base_uri": "https://localhost:8080/"
        },
        "outputId": "ddf525df-ecd1-4447-84fd-46f360385862"
      },
      "execution_count": 175,
      "outputs": [
        {
          "output_type": "stream",
          "name": "stdout",
          "text": [
            " Avg accuracy:0.6114079401775265\n"
          ]
        }
      ]
    },
    {
      "cell_type": "markdown",
      "source": [
        "Logistic Regression Classification Report"
      ],
      "metadata": {
        "id": "2GJSlr1YX_0j"
      }
    },
    {
      "cell_type": "code",
      "source": [
        "y_pred = lr.predict(X_test)\n",
        "print(classification_report(y_test, y_pred))"
      ],
      "metadata": {
        "colab": {
          "base_uri": "https://localhost:8080/"
        },
        "id": "gzjbc47aYC7S",
        "outputId": "93264022-b3eb-4918-cf58-057cb5a33019"
      },
      "execution_count": 176,
      "outputs": [
        {
          "output_type": "stream",
          "name": "stdout",
          "text": [
            "              precision    recall  f1-score   support\n",
            "\n",
            "           0       0.62      1.00      0.77       609\n",
            "           1       0.82      0.02      0.05       374\n",
            "\n",
            "    accuracy                           0.63       983\n",
            "   macro avg       0.72      0.51      0.41       983\n",
            "weighted avg       0.70      0.63      0.49       983\n",
            "\n"
          ]
        }
      ]
    },
    {
      "cell_type": "code",
      "source": [
        "X   = ['KNN','GNB','LOG-R','RBF SVM', 'SIG SVM', 'POLY SVM', 'DT', 'RF']\n",
        "\n",
        "accuracy =  [.63, .63, .63, .60, .53, .62, .58, .63]\n",
        "precision = [.61, .60, .70, .52, .51, .59, .57, .60]\n",
        "recall =    [.63, .63, .63, .60, .53, .62, .58, .63]\n",
        "f1 =        [.61, .59, .49, .50, .52, .53, .58, .59]\n",
        "\n",
        "X_axis = np.arange(len(X))\n",
        "\n",
        "spacing= 0.15\n",
        "\n",
        "plt.rcParams[\"figure.figsize\"] = (20,3)\n",
        "\n",
        "plt.bar(X_axis, accuracy, 0.25, label = 'Accuracy')\n",
        "plt.bar(X_axis + spacing, precision, 0.25, label = 'Precision')\n",
        "plt.bar(X_axis + spacing *2, recall, 0.25, label = 'Recall')\n",
        "plt.bar(X_axis + spacing *3, f1, 0.25, label = 'F1')\n",
        "\n",
        "plt.xticks(X_axis, X)\n",
        "plt.xlabel(\"Model\")\n",
        "plt.ylabel(\"Weighted Avg\")\n",
        "plt.title(\"Model vs Weighted Avg Of Various Metrics\")\n",
        "plt.legend(loc='upper right')\n",
        "\n",
        "plt.show()"
      ],
      "metadata": {
        "id": "C6xUTzgGYaWl",
        "colab": {
          "base_uri": "https://localhost:8080/",
          "height": 241
        },
        "outputId": "ba8519ff-647a-451a-898c-75e8d54376a0"
      },
      "execution_count": 177,
      "outputs": [
        {
          "output_type": "display_data",
          "data": {
            "text/plain": [
              "<Figure size 1440x216 with 1 Axes>"
            ],
            "image/png": "[encoded data removed]"
          },
          "metadata": {
            "needs_background": "light"
          }
        }
      ]
    },
    {
      "cell_type": "code",
      "source": [
        "#footnote: Linear SVM has been left out of the graph because I ran into a problem with splitting the dataset where for Linear SVM there are not enough 1's in the split to perform the model."
      ],
      "metadata": {
        "id": "2BlOFVPlw--4"
      },
      "execution_count": null,
      "outputs": []
    }
  ]
}